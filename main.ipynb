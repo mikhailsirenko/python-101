{
 "cells": [
  {
   "cell_type": "markdown",
   "metadata": {},
   "source": [
    "# How to start talking to a snake in 3 hours?"
   ]
  },
  {
   "cell_type": "code",
   "execution_count": 2,
   "metadata": {
    "slideshow": {
     "slide_type": "skip"
    }
   },
   "outputs": [],
   "source": [
    "from IPython.display import YouTubeVideo"
   ]
  },
  {
   "attachments": {},
   "cell_type": "markdown",
   "metadata": {},
   "source": [
    "<center><img src=\"images/main/figure1.webp\" title=\"Teaching Python be like\"/></center>"
   ]
  },
  {
   "attachments": {},
   "cell_type": "markdown",
   "metadata": {
    "slideshow": {
     "slide_type": "subslide"
    }
   },
   "source": [
    "<div style=\"text-align: left\"><font size=\"5\"> Here is a simple quiz ❔ to warm up </font></div>"
   ]
  },
  {
   "cell_type": "code",
   "execution_count": null,
   "metadata": {},
   "outputs": [],
   "source": []
  },
  {
   "attachments": {},
   "cell_type": "markdown",
   "metadata": {
    "slideshow": {
     "slide_type": "subslide"
    }
   },
   "source": [
    "<div style=\"text-align: left\"><font size=\"5\"> What do \"experts\" say 🤖? </font></div>"
   ]
  },
  {
   "cell_type": "code",
   "execution_count": 3,
   "metadata": {},
   "outputs": [
    {
     "data": {
      "image/jpeg": "[encoded data removed]",
      "text/html": [
       "\n",
       "        <iframe\n",
       "            width=\"900\"\n",
       "            height=\"600\"\n",
       "            src=\"https://www.youtube.com/embed/WbNYbxdW3mk\"\n",
       "            frameborder=\"0\"\n",
       "            allowfullscreen\n",
       "            \n",
       "        ></iframe>\n",
       "        "
      ],
      "text/plain": [
       "<IPython.lib.display.YouTubeVideo at 0x1990938c760>"
      ]
     },
     "execution_count": 3,
     "metadata": {},
     "output_type": "execute_result"
    }
   ],
   "source": [
    "# https://www.youtube.com/watch?v=WbNYbxdW3mk\n",
    "YouTubeVideo('WbNYbxdW3mk', width=900, height=600)"
   ]
  },
  {
   "attachments": {},
   "cell_type": "markdown",
   "metadata": {
    "slideshow": {
     "slide_type": "subslide"
    }
   },
   "source": [
    "<div style=\"text-align: left\"><font size=\"5\"> Who we are 👋? </font></div>\n",
    "\n",
    "<center>\n",
    "<p float=\"center\">\n",
    "  <img src=\"images/main/figure2.png\" width=\"250\" title=\"Auriane\"/>\n",
    "  <img src=\"images/main/figure3.png\" width=\"250\" title=\"Marya\"/> \n",
    "  <img src=\"images/main/figure4.png\" width=\"250\" title=\"Mikhail\"/>\n",
    "</p>\n",
    "</center>\n",
    "\n",
    "<table border=\"0\">\n",
    " <tr>\n",
    "    <td><b style=\"font-size:20px\">Auriane</b></td>\n",
    "    <td><b style=\"font-size:20px\">Marya</b></td>\n",
    "    <td><b style=\"font-size:20px\">Mikhail</b></td>\n",
    " </tr>\n",
    " <tr>\n",
    "    <td><b style=\"font-size:15px\">I am a student interested in making AI safe, but for now, I am researching how to introduce equality in transport planning so I can graduate.</b></td>\n",
    "    <td><b style=\"font-size:15px\">I am a junior scientist-to-be in air pollution and climate change, with an interest in the energy transition.</b></td>\n",
    "    <td><b style=\"font-size:15px\">I am an urban data scientist and researcher with 6+ years of experience analysing various city issues such as climate change, inequalities, and accessibility.</b></td>\n",
    " </tr>\n",
    "</table>"
   ]
  },
  {
   "attachments": {},
   "cell_type": "markdown",
   "metadata": {
    "slideshow": {
     "slide_type": "subslide"
    }
   },
   "source": [
    "<div style=\"text-align: left\"><font size=\"5\"> What are we going to learn 👩‍🎓? </font></div>\n",
    "\n",
    "1. What is Python, and what can it do?\n",
    "2. How to program in Python?\n",
    "3. Variables: types, names, and values;\n",
    "4. Operators: arithmetic, comparison, and logical;\n",
    "5. Conditional statements: `if`, `elif`, and `else`;\n",
    "6. Loops: `for` and `while`;\n",
    "7. Basics data structures: lists, tuples, and dictionaries;\n",
    "8. Graphs: matplotlib;\n",
    "9. Extra: sneak peek into Pandas and scikit-learn."
   ]
  },
  {
   "attachments": {},
   "cell_type": "markdown",
   "metadata": {
    "slideshow": {
     "slide_type": "subslide"
    }
   },
   "source": [
    "<div style=\"text-align: left\"><font size=\"5\"> Agenda 📅 </font></div>\n",
    "\n",
    "1. What is Python, and what can it do? ⌛ ≈ 40 min;|\n",
    "2. Operators and conditionals. ⌛ ≈ 40 min;\n",
    "3. Loops and data structures. ⌛ ≈ 40 min;\n",
    "4. Graphs and sneak peak into `Pandas` and `scikit-learn`. ⌛ ≈ 30 min."
   ]
  },
  {
   "attachments": {},
   "cell_type": "markdown",
   "metadata": {
    "slideshow": {
     "slide_type": "subslide"
    }
   },
   "source": [
    "<div style=\"text-align: left\"><font size=\"5\"> Way of working = \n",
    "Learning by messing around 🌀! </font></div>\n",
    "\n",
    "\n",
    "<center><img src=\"images/main/figure5.jpg\" title=\"Way of working\"></center>"
   ]
  },
  {
   "attachments": {},
   "cell_type": "markdown",
   "metadata": {
    "slideshow": {
     "slide_type": "slide"
    }
   },
   "source": [
    "## Part 1: What is Python 🐍, and what can it do 🧙?"
   ]
  },
  {
   "attachments": {},
   "cell_type": "markdown",
   "metadata": {
    "slideshow": {
     "slide_type": "subslide"
    }
   },
   "source": [
    "<div style=\"text-align: left\"><font size=\"5\"> What is Python 🐍? </font></div>\n",
    "\n",
    "* High-level, interpreted, and general purpose programming language by Guido van Rossum in 1991.\n",
    "* It emphasizes readability and simplicity, e.g. when specifying a variable just name it by its meaning: `car='red'`.\n",
    "* It is used in web development, data science, machine learning, artificial intelligence, and many more."
   ]
  },
  {
   "attachments": {},
   "cell_type": "markdown",
   "metadata": {
    "slideshow": {
     "slide_type": "subslide"
    }
   },
   "source": [
    "<div style=\"text-align: left\"><font size=\"5\"> Why Python ⁉️ </font></div>\n",
    "\n",
    "1.  It 🆓, easy to learn and use. For example, you can use it across different platforms Windows, Linux, or macOS.\n",
    "2.  It has a lot of libraries (📦). Perhaps you have heard about Pandas 🐼, scikit-learn, or NumPy?\n",
    "3.  Community 🧑‍🤝‍🧑! It is a very active community, and there are a lot of resources to learn Python."
   ]
  },
  {
   "attachments": {},
   "cell_type": "markdown",
   "metadata": {
    "slideshow": {
     "slide_type": "subslide"
    }
   },
   "source": [
    "<div style=\"text-align: left\"><font size=\"5\"> How do we program in Python 💻?</font></div>\n",
    "\n",
    "<center><img src=\"images/main/figure6.jpg\" title=\"Python is easy to understand\"/></center>"
   ]
  },
  {
   "attachments": {},
   "cell_type": "markdown",
   "metadata": {
    "slideshow": {
     "slide_type": "subslide"
    }
   },
   "source": [
    "<div style=\"text-align: left\"><font size=\"5\">By installing another snake - Anaconda❗</font></div>\n",
    "\n",
    "_Execrcise 1_\n",
    "\n",
    "* Install Anaconda Navigator,\n",
    "* Within it you can find **Jupyter Notebook** and Jupyter Lab **IDEs** (Integrated Development Environment),\n",
    "* There are other IDEs that you can use, e.g. Visual Studio Code.\n",
    "\n",
    "*Jupyter Notebook is a web application that allows you to create and share documents that contain live code, equations, visualizations and narrative text.*"
   ]
  },
  {
   "attachments": {},
   "cell_type": "markdown",
   "metadata": {
    "slideshow": {
     "slide_type": "subslide"
    }
   },
   "source": [
    "<div style=\"text-align: left\"><font size=\"5\">Who needs help with installation ✋?</font></div>\n",
    "\n",
    "https://github.com/mikhailsirenko/python-101"
   ]
  },
  {
   "attachments": {},
   "cell_type": "markdown",
   "metadata": {
    "slideshow": {
     "slide_type": "subslide"
    }
   },
   "source": [
    "<div style=\"text-align: left\"><font size=\"5\">Let's get familiar with Jupyter Lab 😎</font></div>\n",
    "\n",
    "<center><img src=\"images/main/figure7.jpg\" title=\"Jupyter Lab\"/></center>"
   ]
  },
  {
   "attachments": {},
   "cell_type": "markdown",
   "metadata": {
    "slideshow": {
     "slide_type": "subslide"
    }
   },
   "source": [
    "<div style=\"text-align: left\"><font size=\"5\">But what does it mean to make a program 🤔?</font></div>"
   ]
  },
  {
   "cell_type": "code",
   "execution_count": 13,
   "metadata": {},
   "outputs": [
    {
     "data": {
      "image/jpeg": "[encoded data removed]",
      "text/html": [
       "\n",
       "        <iframe\n",
       "            width=\"900\"\n",
       "            height=\"600\"\n",
       "            src=\"https://www.youtube.com/embed/cDA3_5982h8\"\n",
       "            frameborder=\"0\"\n",
       "            allowfullscreen\n",
       "            \n",
       "        ></iframe>\n",
       "        "
      ],
      "text/plain": [
       "<IPython.lib.display.YouTubeVideo at 0x22b63f997c0>"
      ]
     },
     "execution_count": 13,
     "metadata": {},
     "output_type": "execute_result"
    }
   ],
   "source": [
    "# https://www.youtube.com/watch?v=cDA3_5982h8\n",
    "YouTubeVideo('cDA3_5982h8', width=900, height=600)"
   ]
  },
  {
   "attachments": {},
   "cell_type": "markdown",
   "metadata": {
    "slideshow": {
     "slide_type": "subslide"
    }
   },
   "source": [
    "<div style=\"text-align: left\"><font size=\"5\"> Python is a language 🗣️! </font></div>\n",
    "\n",
    "We have to learn how to speak Python. The code we write consists of **statements**, which are instructions that the Python interpreter can execute. For example, `print('Hello world!')` is a statement that prints the string `'Hello world!'` to the screen.\n",
    "\n",
    "Other examples of statements are:\n",
    "* `a = 1` - assign the value `1` to the variable `a`;\n",
    "* `a = a + 1` - assign the value of `a + 1` to the variable `a`;\n",
    "* `if a > 0: print('a is positive')` - if `a` is positive, print `'a is positive'`;"
   ]
  },
  {
   "attachments": {},
   "cell_type": "markdown",
   "metadata": {},
   "source": [
    "<div style=\"text-align: left\"><font size=\"5\">A necessary first program 🌐</font></div>\n",
    "\n",
    "_Execrcise 2_\n",
    "\n",
    "<center><img src=\"images/main/figure8.jpg\" title=\"Terminal\"/></center>"
   ]
  },
  {
   "cell_type": "markdown",
   "metadata": {},
   "source": [
    "<center><img src=\"images/main/break-3.gif\" title=\"Break\"/></center>"
   ]
  },
  {
   "attachments": {},
   "cell_type": "markdown",
   "metadata": {
    "slideshow": {
     "slide_type": "slide"
    }
   },
   "source": [
    "## Part 2: Variables, operators, and conditional statements 📝"
   ]
  },
  {
   "attachments": {},
   "cell_type": "markdown",
   "metadata": {
    "slideshow": {
     "slide_type": "subslide"
    }
   },
   "source": [
    "<div style=\"text-align: left\"><font size=\"5\">Variables types, names, and values </font></div>\n",
    "\n",
    "* A **variable** is a name that refers to a value. For example, `a = 1` creates a variable `a` that refers to the value `1`.\n",
    "* The **type** of a variable refers to the kind of value it refers to.\n",
    "* When we name variables we try to be explicit about what they refer to. For example, `car = \"tesla\"` is better than `a = \"tesla\"`.\n",
    "* Sometimes when the variable name consists of more than one word, we use an underscore to separate the words. For example, `car_color = \"red\"`.\n",
    "* The **assignment statement** creates new variables and gives them values. To assign a value to a variable, use the assignment operator `=`. For example, `car = \"tesla\"` assigns the value `\"tesla\"` to the variable `car`."
   ]
  },
  {
   "attachments": {},
   "cell_type": "markdown",
   "metadata": {
    "slideshow": {
     "slide_type": "subslide"
    }
   },
   "source": [
    "<div style=\"text-align: left\"><font size=\"5\">What are the basic data types in Python?</font></div>\n",
    "\n",
    "* **Integers** are whole numbers, e.g. `1`, `2`, `3`, `4`, `5`, etc.\n",
    "* **Floats** are numbers with a decimal point, e.g. `1.0`, `2.0`, `3.0`, `4.0`, `5.0`, etc.\n",
    "* **Strings** are sequences of characters, e.g. `\"Hello\"`, `\"World\"`, `\"Python\"`, etc.\n",
    "* **Booleans** are either `True` or `False`."
   ]
  },
  {
   "attachments": {},
   "cell_type": "markdown",
   "metadata": {
    "slideshow": {
     "slide_type": "subslide"
    }
   },
   "source": [
    "<div style=\"text-align: left\"><font size=\"5\">What are operators in Python?</font></div>\n",
    "\n",
    "The operators are used to perform operations on variables and values. Python language supports the following types of operators:\n",
    "\n",
    "* Arithmetic operators: `+, -, *, /, %, **, //`\n",
    "* Assignment operators: `=, +=, -=, *=, /=, %=, //=, **=`\n",
    "* Comparison operators: `==, !=, >, <, >=, <=`\n",
    "* Logical operators: `and, or, not`\n",
    "* Identity operators: `is, is not`\n",
    "* Membership operators: `in, not in`\n",
    "* Bitwise operators: `&, |, ^, ~, <<, >>`\n",
    "\n",
    "<div class=\"alert alert-block alert-info\">\n",
    "<b>Tip:</b> Python has a number of built-in functions, e.g. `sum()`. Using them will save you quite some time. You can find more information about them <a href=\"https://docs.python.org/3/library/functions.html\">here</a>.\n",
    "</div>"
   ]
  },
  {
   "attachments": {},
   "cell_type": "markdown",
   "metadata": {
    "slideshow": {
     "slide_type": "subslide"
    }
   },
   "source": [
    "<div style=\"text-align: left\"><font size=\"5\">Guess the Type</font></div>\n",
    "\n",
    "What is the type of the following values?\n",
    "``` python\n",
    "42\n",
    "\n",
    "42.0\n",
    "\n",
    "4.2e1\n",
    "\n",
    "\"4.2e1\"\n",
    "\n",
    "None\n",
    "\n",
    "42 == 42\n",
    "```\n",
    "\n",
    "<div class=\"alert alert-block alert-info\">\n",
    "<b>Tip:</b> You can use type() function to check the type of a value.\n",
    "</div>"
   ]
  },
  {
   "attachments": {},
   "cell_type": "markdown",
   "metadata": {
    "slideshow": {
     "slide_type": "subslide"
    }
   },
   "source": [
    "<div style=\"text-align: left\"><font size=\"5\">Variable Swap</font></div>\n",
    "\n",
    "What's going to happen if we run the following code?\n",
    "\n",
    "```python\n",
    "a = \"Hello\"\n",
    "b = 2\n",
    "\n",
    "a = b\n",
    "```\n",
    "\n",
    "<div class=\"alert alert-block alert-info\">\n",
    "<b>Tip:</b> You can use declare the variable type explicitly. For example, a: int = 1 or a = int(1).\n",
    "</div>"
   ]
  },
  {
   "attachments": {},
   "cell_type": "markdown",
   "metadata": {
    "slideshow": {
     "slide_type": "subslide"
    }
   },
   "source": [
    " <div style=\"text-align: left\"><font size=\"5\">Name Concatention</font></div>\n",
    " \n",
    "_Example 1_\n",
    "\n",
    "Write a program that asks the user for their first name and last name, and then prints their full name."
   ]
  },
  {
   "cell_type": "code",
   "execution_count": null,
   "metadata": {},
   "outputs": [],
   "source": []
  },
  {
   "attachments": {},
   "cell_type": "markdown",
   "metadata": {
    "slideshow": {
     "slide_type": "subslide"
    }
   },
   "source": [
    " <div style=\"text-align: left\"><font size=\"5\">Area of a Rectangle</font></div>\n",
    "\n",
    "_Example 2_\n",
    "\n",
    "Write a program that calculates the area of a rectangle. The program should ask the user for the length and width of the rectangle. The program should display the area of the rectangle."
   ]
  },
  {
   "cell_type": "code",
   "execution_count": null,
   "metadata": {},
   "outputs": [],
   "source": []
  },
  {
   "attachments": {},
   "cell_type": "markdown",
   "metadata": {
    "slideshow": {
     "slide_type": "subslide"
    }
   },
   "source": [
    " <div style=\"text-align: left\"><font size=\"5\">Who likes 🍕?</font></div>\n",
    "\n",
    "_Exercise 3_\n",
    "\n",
    "Create variables for your name (`str`), age (`int`), height (`float`), and a boolean value indicating whether you like pizza (`bool`). Then, print a sentence using these variables."
   ]
  },
  {
   "cell_type": "code",
   "execution_count": null,
   "metadata": {},
   "outputs": [],
   "source": []
  },
  {
   "attachments": {},
   "cell_type": "markdown",
   "metadata": {
    "slideshow": {
     "slide_type": "subslide"
    }
   },
   "source": [
    "<div style=\"text-align: left\"><font size=\"5\">What are conditional statments in Python ⁉️</font></div>\n",
    "\n",
    "Conditional statements are used to perform different actions based on different conditions. Python language supports the following conditional statements:\n",
    "\n",
    "* `if` statement is used to check if a condition is `True` or `False`,\n",
    "* `else` statement is used to execute a block of code if the condition is `False`,\n",
    "* `elif` statement is used to check if a condition is `True` or `False` if the previous condition was `False`."
   ]
  },
  {
   "attachments": {},
   "cell_type": "markdown",
   "metadata": {},
   "source": [
    "<div style=\"text-align: left\"><font size=\"5\">Example syntax 📓</font></div>\n",
    "\n",
    "```python\n",
    "\n",
    "if car == \"tesla\":\n",
    "    # do something\n",
    "elif car == \"bmw\":\n",
    "    # do something\n",
    "else:\n",
    "    # do something\n",
    "```"
   ]
  },
  {
   "cell_type": "markdown",
   "metadata": {
    "slideshow": {
     "slide_type": "subslide"
    }
   },
   "source": [
    "<div style=\"text-align: left\"><font size=\"5\">Even or Odd</font></div>\n",
    "\n",
    "_Example 3_\n",
    "\n",
    "Write a program that asks the user for a number and then prints out a message indicating whether the number is even or odd."
   ]
  },
  {
   "cell_type": "code",
   "execution_count": null,
   "metadata": {},
   "outputs": [],
   "source": []
  },
  {
   "attachments": {},
   "cell_type": "markdown",
   "metadata": {
    "slideshow": {
     "slide_type": "subslide"
    }
   },
   "source": [
    "<div style=\"text-align: left\"><font size=\"5\">Age Comparison</font></div>\n",
    "\n",
    "_Example 4_\n",
    "\n",
    "Write a program that asks the user for age of two people and then prints out a message indicating who is older."
   ]
  },
  {
   "cell_type": "code",
   "execution_count": null,
   "metadata": {},
   "outputs": [],
   "source": []
  },
  {
   "attachments": {},
   "cell_type": "markdown",
   "metadata": {
    "slideshow": {
     "slide_type": "subslide"
    }
   },
   "source": [
    "<div style=\"text-align: left\"><font size=\"5\">Rock, Paper, Scissors 🗿📄✂️</font></div>\n",
    "\n",
    "_Exercise 4_\n",
    "\n",
    "Write a program that takes two users input and compares them. If the two inputs are the same, print \"It's a tie!\". If the two inputs are different, print \"Player 1 wins!\" or \"Player 2 wins!\" depending on which input is larger."
   ]
  },
  {
   "cell_type": "code",
   "execution_count": null,
   "metadata": {},
   "outputs": [],
   "source": []
  },
  {
   "attachments": {},
   "cell_type": "markdown",
   "metadata": {
    "slideshow": {
     "slide_type": "subslide"
    }
   },
   "source": [
    "<center><img src=\"images/main/break.gif\" title=\"Break\"/></center>"
   ]
  },
  {
   "attachments": {},
   "cell_type": "markdown",
   "metadata": {
    "slideshow": {
     "slide_type": "slide"
    }
   },
   "source": [
    "## Part 3: Loops 🔁 and data structures 📚"
   ]
  },
  {
   "attachments": {},
   "cell_type": "markdown",
   "metadata": {
    "slideshow": {
     "slide_type": "subslide"
    }
   },
   "source": [
    "<div style=\"text-align: left\"><font size=\"5\">Loops 🔁</font></div>\n",
    "\n",
    "Loop is a programming structure that repeats a sequence of instructions until a specific condition is met. Python language supports the following types of loops:\n",
    "\n",
    "* `for` loop is used to iterate over a sequence (list, tuple, string) or other iterable objects.\n",
    "* `while` loop is used to iterate over a block of code as long as the test expression (condition) is true.\n",
    "\n",
    "<br></br>\n",
    "<div class=\"alert alert-block alert-warning\">\n",
    "<b>Important:</b> Be careful with the infinite loops. They will run forever until you stop the program.\n",
    "</div>"
   ]
  },
  {
   "attachments": {},
   "cell_type": "markdown",
   "metadata": {
    "slideshow": {
     "slide_type": "subslide"
    }
   },
   "source": [
    "<div style=\"text-align: left\"><font size=\"5\">Example syntax 📓</font></div>\n",
    "\n",
    "```python\n",
    "\n",
    "# for loop\n",
    "for i in range(5):\n",
    "    print(i)\n",
    "\n",
    "# while loop\n",
    "i = 0\n",
    "while i < 5:\n",
    "    print(i)\n",
    "    i += 1\n",
    "```"
   ]
  },
  {
   "attachments": {},
   "cell_type": "markdown",
   "metadata": {
    "slideshow": {
     "slide_type": "subslide"
    }
   },
   "source": [
    "<div style=\"text-align: left\"><font size=\"5\">Countdown ⏱️</font></div>\n",
    "\n",
    "_Example 5_\n",
    "\n",
    "Write a program that counts down from 10 to 1, then prints \"Blastoff!\"."
   ]
  },
  {
   "cell_type": "code",
   "execution_count": null,
   "metadata": {},
   "outputs": [],
   "source": []
  },
  {
   "attachments": {},
   "cell_type": "markdown",
   "metadata": {
    "slideshow": {
     "slide_type": "subslide"
    }
   },
   "source": [
    "<div style=\"text-align: left\"><font size=\"5\">Multiplication Table ✖️</font></div>\n",
    "\n",
    "_Example 6_\n",
    "\n",
    "Write a program that takes a number as input and prints its multiplication table from 1 to 10."
   ]
  },
  {
   "cell_type": "code",
   "execution_count": null,
   "metadata": {},
   "outputs": [],
   "source": []
  },
  {
   "attachments": {},
   "cell_type": "markdown",
   "metadata": {
    "slideshow": {
     "slide_type": "subslide"
    }
   },
   "source": [
    "<div style=\"text-align: left\"><font size=\"5\">Sum of Numbers ➕</font></div>\n",
    "\n",
    "_Exercise 5_\n",
    "\n",
    "Write a program that asks the user for a number and then prints the sum of all the integers from 1 to that number."
   ]
  },
  {
   "cell_type": "code",
   "execution_count": null,
   "metadata": {},
   "outputs": [],
   "source": []
  },
  {
   "attachments": {},
   "cell_type": "markdown",
   "metadata": {
    "slideshow": {
     "slide_type": "subslide"
    }
   },
   "source": [
    "<div style=\"text-align: left\"><font size=\"5\">Data structures 📚</font></div>\n",
    "\n",
    "Data structures are used to store collections of data, which can be of different types. Python language supports the following types of data structures:\n",
    "\n",
    "* **List** is a collection which is ordered and changeable. Allows duplicate members.\n",
    "* **Tuple** is a collection which is ordered and unchangeable. Allows duplicate members.\n",
    "* **Dictionary** is a collection which is unordered, changeable and indexed. No duplicate members.\n",
    "* **Set** is a collection which is unordered and unindexed. No duplicate members."
   ]
  },
  {
   "attachments": {},
   "cell_type": "markdown",
   "metadata": {
    "slideshow": {
     "slide_type": "subslide"
    }
   },
   "source": [
    "<div style=\"text-align: left\"><font size=\"5\">Example syntax 📓</font></div>\n",
    "\n",
    "How to intialize a data structure:\n",
    "\n",
    "```python\n",
    "\n",
    "# list\n",
    "my_list = [\"banana\", \"banana\", \"banana\"]\n",
    "\n",
    "# tuple\n",
    "my_tuple = (\"apple\", \"banana\", \"cherry\")\n",
    "\n",
    "# dictionary\n",
    "my_dict = {\n",
    "    \"name\": \"John\",\n",
    "    \"age\": 36\n",
    "}\n",
    "\n",
    "# set\n",
    "my_set = {\"apple\", \"banana\", \"cherry\"}\n",
    "```"
   ]
  },
  {
   "attachments": {},
   "cell_type": "markdown",
   "metadata": {
    "slideshow": {
     "slide_type": "subslide"
    }
   },
   "source": [
    "<div style=\"text-align: left\"><font size=\"5\">Example syntax 📓</font></div>\n",
    "\n",
    "How to manipulate a data structure:\n",
    "\n",
    "```python\n",
    "\n",
    "# list\n",
    "my_list = [\"banana\", \"banana\", \"banana\"]\n",
    "\n",
    "# get an item\n",
    "my_list[0]\n",
    "\n",
    "# add an item\n",
    "my_list.append(\"apple\")\n",
    "\n",
    "# remove an item\n",
    "my_list.remove(\"banana\")\n",
    "\n",
    "# tuple\n",
    "my_tuple = (\"apple\", \"banana\", \"cherry\")\n",
    "\n",
    "# get an item\n",
    "my_tuple[0]\n",
    "\n",
    "# dictionary\n",
    "my_dict = {\n",
    "    \"name\": \"John\",\n",
    "    \"age\": 36\n",
    "}\n",
    "\n",
    "# get an item\n",
    "my_dict[\"name\"]\n",
    "\n",
    "# add an item\n",
    "my_dict[\"gender\"] = \"male\"\n",
    "\n",
    "# remove an item\n",
    "my_dict.pop(\"age\")\n",
    "\n",
    "```"
   ]
  },
  {
   "attachments": {},
   "cell_type": "markdown",
   "metadata": {
    "slideshow": {
     "slide_type": "subslide"
    }
   },
   "source": [
    "<div style=\"text-align: left\"><font size=\"5\">List Manipulation ↔️</font></div>\n",
    "\n",
    "_Example 7_\n",
    "\n",
    "Write a program that takes a list of 6 elements and prints the sum and the average of its elements."
   ]
  },
  {
   "cell_type": "code",
   "execution_count": null,
   "metadata": {},
   "outputs": [],
   "source": []
  },
  {
   "cell_type": "markdown",
   "metadata": {
    "slideshow": {
     "slide_type": "subslide"
    }
   },
   "source": [
    "<div style=\"text-align: left\"><font size=\"5\">List Reversal ◀️</font></div>\n",
    "\n",
    "_Example 8_\n",
    "\n",
    "Write a program that takes a list of 6 elements and reverses it."
   ]
  },
  {
   "cell_type": "code",
   "execution_count": null,
   "metadata": {},
   "outputs": [],
   "source": []
  },
  {
   "attachments": {},
   "cell_type": "markdown",
   "metadata": {
    "slideshow": {
     "slide_type": "subslide"
    }
   },
   "source": [
    "<div style=\"text-align: left\"><font size=\"5\">Dictionary Lookup 🔍</font></div>\n",
    "\n",
    "_Exercise 6_\n",
    "\n",
    "Write a program that takes this dictionary as input and then asks the user to enter a name. If a name is found in the dictionary, the program should print the corresponding phone number. If not, the program should print a message saying that the name is not found.\n",
    "\n",
    "```python\n",
    "phonebook = {\n",
    "    \"Alice\": \"555-1234\",\n",
    "    \"Bob\": \"555-5678\",\n",
    "    \"Charlie\": \"555-2468\"\n",
    "}\n",
    "```"
   ]
  },
  {
   "attachments": {},
   "cell_type": "markdown",
   "metadata": {
    "slideshow": {
     "slide_type": "subslide"
    }
   },
   "source": [
    "<center><img src=\"images/main/break-2.gif\" title=\"Break\"/></center>"
   ]
  },
  {
   "cell_type": "markdown",
   "metadata": {
    "slideshow": {
     "slide_type": "slide"
    }
   },
   "source": [
    "## Part 4: Graphs and extra"
   ]
  },
  {
   "cell_type": "code",
   "execution_count": null,
   "metadata": {},
   "outputs": [],
   "source": []
  },
  {
   "attachments": {},
   "cell_type": "markdown",
   "metadata": {
    "slideshow": {
     "slide_type": "slide"
    }
   },
   "source": [
    "<center><img src=\"images/main/thank-you.gif\" title=\"Thank you\"/></center>"
   ]
  },
  {
   "cell_type": "code",
   "execution_count": null,
   "metadata": {
    "slideshow": {
     "slide_type": "skip"
    }
   },
   "outputs": [],
   "source": [
    "jupyter nbconvert \"main.ipynb\" --to slides --post serve"
   ]
  }
 ],
 "metadata": {
  "kernelspec": {
   "display_name": "Python 3 (ipykernel)",
   "language": "python",
   "name": "python3"
  },
  "language_info": {
   "codemirror_mode": {
    "name": "ipython",
    "version": 3
   },
   "file_extension": ".py",
   "mimetype": "text/x-python",
   "name": "python",
   "nbconvert_exporter": "python",
   "pygments_lexer": "ipython3",
   "version": "3.9.5"
  }
 },
 "nbformat": 4,
 "nbformat_minor": 4
}
